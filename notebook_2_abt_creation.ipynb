{
 "cells": [
  {
   "cell_type": "markdown",
   "metadata": {},
   "source": [
    "# Pipelines workshop 2: creating an ABT\n",
    "\n",
    "In the first notebook for this workshop, \"importing and preparing the data\" you read in data from an external source and processed it into two CSV files: data/processed/income.csv and data/processed/expenditure.csv.\n",
    "\n",
    "Now we are going to combine these two CSV files into one large table so that we can analyze the data. Such a combined table is known as an Analytical Base Table (ABT).\n",
    "\n",
    "As this notebook, too, is part of our pipeline, we will be rigorously logging  all the unexpected situations we encounter in our work.\n",
    "\n",
    "\n"
   ]
  },
  {
   "cell_type": "code",
   "execution_count": 1,
   "metadata": {},
   "outputs": [],
   "source": [
    "import pandas as pd\n",
    "from lib.utils import *\n",
    "from loguru import logger"
   ]
  },
  {
   "cell_type": "markdown",
   "metadata": {},
   "source": [
    "## Read in our data\n",
    "\n",
    "Reading in our data should not cause problems, but just in case it does: log errors and halt execution if one of our two data files does not exist.\n",
    "\n",
    "- Load income data into a dataframe `dfi`\n",
    "- Load expenditure data into a dataframe `dfe`"
   ]
  },
  {
   "cell_type": "code",
   "execution_count": 2,
   "metadata": {},
   "outputs": [],
   "source": [
    "# Your code goes here"
   ]
  },
  {
   "cell_type": "code",
   "execution_count": null,
   "metadata": {},
   "outputs": [
    {
     "name": "stderr",
     "output_type": "stream",
     "text": [
      "\u001b[32m2025-03-25 13:52:44.341\u001b[0m | \u001b[41m\u001b[1mCRITICAL\u001b[0m | \u001b[36m__main__\u001b[0m:\u001b[36m<module>\u001b[0m:\u001b[36m4\u001b[0m - \u001b[41m\u001b[1mUnable to read income csv file: [Errno 2] No such file or directory: 'data/processed/income.csv'\u001b[0m\n",
      "\u001b[32m2025-03-25 13:52:44.343\u001b[0m | \u001b[41m\u001b[1mCRITICAL\u001b[0m | \u001b[36m__main__\u001b[0m:\u001b[36m<module>\u001b[0m:\u001b[36m10\u001b[0m - \u001b[41m\u001b[1mUnable to read expenditure csv file: [Errno 2] No such file or directory: 'data/processed/expenditure.csv'\u001b[0m\n"
     ]
    },
    {
     "ename": "",
     "evalue": "",
     "output_type": "error",
     "traceback": [
      "\u001b[1;31mThe Kernel crashed while executing code in the current cell or a previous cell. \n",
      "\u001b[1;31mPlease review the code in the cell(s) to identify a possible cause of the failure. \n",
      "\u001b[1;31mClick <a href='https://aka.ms/vscodeJupyterKernelCrash'>here</a> for more info. \n",
      "\u001b[1;31mView Jupyter <a href='command:jupyter.viewOutput'>log</a> for further details."
     ]
    }
   ],
   "source": [
    "try:\n",
    "    dfi = pd.read_csv(\"data/processed/income.csv\")\n",
    "except Exception as e:\n",
    "    logger.critical(f\"Unable to read income csv file: {e}\")\n",
    "    exit(0)\n",
    "\n",
    "try:\n",
    "    dfe = pd.read_csv(\"data/processed/expenditure.csv\")\n",
    "except Exception as e:\n",
    "    logger.critical(f\"Unable to read expenditure csv file: {e}\")\n",
    "    exit(0)"
   ]
  }
 ],
 "metadata": {
  "kernelspec": {
   "display_name": ".venv",
   "language": "python",
   "name": "python3"
  },
  "language_info": {
   "codemirror_mode": {
    "name": "ipython",
    "version": 3
   },
   "file_extension": ".py",
   "mimetype": "text/x-python",
   "name": "python",
   "nbconvert_exporter": "python",
   "pygments_lexer": "ipython3",
   "version": "3.13.2"
  }
 },
 "nbformat": 4,
 "nbformat_minor": 2
}
